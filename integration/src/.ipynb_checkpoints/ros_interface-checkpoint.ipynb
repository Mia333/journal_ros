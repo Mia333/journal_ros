{
 "cells": [
  {
   "cell_type": "code",
   "execution_count": 2,
   "metadata": {},
   "outputs": [
    {
     "data": {
      "text/plain": [
       "sys.version_info(major=3, minor=6, micro=4, releaselevel='final', serial=0)"
      ]
     },
     "execution_count": 2,
     "metadata": {},
     "output_type": "execute_result"
    }
   ],
   "source": [
    "#!/usr/bin/env python\n",
    "import rospy\n",
    "from std_msgs.msg import String\n",
    "from geometry_msgs.msg import PoseStamped\n",
    "\n",
    "def callWrist(data):\n",
    "    #rospy.loginfo(rospy.get_caller_id() + \"I heard %s\", data.data)\n",
    "    Human_wrist = data.Pose \n",
    "    return Human_wrist\n",
    "\n",
    "def callRobot(data):\n",
    "    #rospy.loginfo(rospy.get_caller_id() + \"I heard %s\", data.data)\n",
    "    Robot_base = data.Pose \n",
    "    return Robot_base\n",
    "    \n",
    "def listener():\n",
    " \n",
    "     # In ROS, nodes are uniquely named. If two nodes with the same\n",
    "     # node are launched, the previous one is kicked off. The\n",
    "     # anonymous=True flag means that rospy will choose a unique\n",
    "    # name for our 'listener' node so that multiple listeners can\n",
    "    # run simultaneously.\n",
    "    rospy.init_node('integration', anonymous=True)\n",
    "    \n",
    "    Human_wrist = rospy.Subscriber(\"wrist_pose\", PoseStamped, callWrist ) # Qualisys frame\n",
    "     # spin() simply keeps python from exiting until this node is stopped\n",
    "    Robot_base = rospy.Subscriber(\"standing2_base\", PoseStamped, callRobot ) # Robot_base frame \n",
    "    rospy.spin()\n",
    "\n",
    "    return Human_wrist, Robot_base\n",
    "    \n",
    "if __name__ == '__main__':\n",
    "     Human_wrist, Robot_base = listener()"
   ]
  },
  {
   "cell_type": "code",
   "execution_count": null,
   "metadata": {},
   "outputs": [],
   "source": [
    "# which frame?\n",
    "# Extract rotation, transform to the same frame\n",
    "# input the data to code\n",
    "# publisher: "
   ]
  }
 ],
 "metadata": {
  "kernelspec": {
   "display_name": "Python [default]",
   "language": "python",
   "name": "python3"
  },
  "language_info": {
   "codemirror_mode": {
    "name": "ipython",
    "version": 3
   },
   "file_extension": ".py",
   "mimetype": "text/x-python",
   "name": "python",
   "nbconvert_exporter": "python",
   "pygments_lexer": "ipython3",
   "version": "3.6.4"
  }
 },
 "nbformat": 4,
 "nbformat_minor": 2
}
